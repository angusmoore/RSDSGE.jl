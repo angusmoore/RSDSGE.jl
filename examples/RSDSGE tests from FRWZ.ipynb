{
 "cells": [
  {
   "cell_type": "markdown",
   "metadata": {},
   "source": [
    "# This sets up and solves the examples from FRWZ\n",
    "\n",
    "In the notes I report only the stable solution reported by FRWZ, not the whole list. I list how many solution there are though."
   ]
  },
  {
   "cell_type": "code",
   "execution_count": 1,
   "metadata": {
    "collapsed": false
   },
   "outputs": [],
   "source": [
    "push!(LOAD_PATH,\"/home/ec2-user/Jupyter Notebooks/RSDSGE/src/\")\n",
    "using RSDSGE"
   ]
  },
  {
   "cell_type": "markdown",
   "metadata": {},
   "source": [
    "## 1: RBC model\n",
    "\n",
    "Section 4.3\n",
    "\n",
    "Steady state:\n",
    "\n",
    "    K: 32.0986\n",
    "    C: 2.18946\n",
    "    \n",
    "Four solutions total, the stable solution provided in text is:\n",
    "\n",
    "Decision rules (k, e_A, eta):\n",
    "\n",
    "    State 1:\n",
    "        K: 0.96364 -0.0092 -0.0843\n",
    "        C: 0.03896 0.00028 0.00972\n",
    "    State 2:\n",
    "        K: 0.96364 -0.0092 0.0843\n",
    "        C: 0.03896 0.00028 -0.00972"
   ]
  },
  {
   "cell_type": "code",
   "execution_count": 2,
   "metadata": {
    "collapsed": false
   },
   "outputs": [
    {
     "name": "stdout",
     "output_type": "stream",
     "text": [
      "Checking which of the switching parameters affect the steady state:\n",
      "Solving for steady state...done.\n",
      "mu...does.\n",
      "----- Diagnostics -----\n",
      "Jump variables: 1\n",
      "Static variables: 0\n",
      "Non-state exo variables: 1\n",
      "Exo states variables: 0\n",
      "Endo states variables: 1\n",
      "Found 0 candidate blocks... 0 of them are redundant.\n",
      "Evaluating coefficient matrices...done.\n",
      "Subbing out static variables...done.\n",
      "Solving exogenous equations...done.\n",
      "Constructing system of quadratic equations...done\n",
      "Solving complete system of quadratic equations (4 equations)...done\n",
      "Found 4 solution(s).\n",
      "Solution number 3 has imaginary components, ignoring...\n",
      "Solution number 4 has imaginary components, ignoring...\n"
     ]
    },
    {
     "data": {
      "text/plain": [
       "RSDSGE.RSDSGESolution(3x3x2 Array{Float64,3}:\n",
       "[:, :, 1] =\n",
       " 0.0   0.0375854  0.0\n",
       " 0.0   0.964961   0.0\n",
       " 0.0  -0.0        0.0\n",
       "\n",
       "[:, :, 2] =\n",
       " 0.0   0.0375854  0.0\n",
       " 0.0   0.964961   0.0\n",
       " 0.0  -0.0        0.0,3x1x2 Array{Float64,3}:\n",
       "[:, :, 1] =\n",
       "  0.000285212\n",
       " -0.00978012 \n",
       "  1.0        \n",
       "\n",
       "[:, :, 2] =\n",
       "  0.000285212\n",
       " -0.00978012 \n",
       "  1.0        ,3x1x2 Array{Float64,3}:\n",
       "[:, :, 1] =\n",
       "  2.235 \n",
       " 33.8319\n",
       "  0.0   \n",
       "\n",
       "[:, :, 2] =\n",
       "  2.22819\n",
       " 34.0742 \n",
       "  0.0    )"
      ]
     },
     "execution_count": 2,
     "metadata": {},
     "output_type": "execute_result"
    }
   ],
   "source": [
    "beta = 0.9976\n",
    "mu = (0.005,0.00004)\n",
    "sigma = 0.0002\n",
    "alpha = 0.33\n",
    "delta = 0.025\n",
    "transmatrix = [0.9 0.1; 0.1 0.9]\n",
    "\n",
    "vars = [\"c\",\"k\",\"eps\"]\n",
    "parameters = [\"betta\",\"mu\",\"sigma\",\"alpha\",\"delta\"]\n",
    "parameter_values = [beta,mu,sigma,alpha,delta]\n",
    "\n",
    "shocks = [\"e_eps\"]\n",
    "\n",
    "expressions = [\"1/c = betta*1/c(+1)*exp((mu_R + sigma*eps)/(alpha-1))*(alpha*exp(mu_RP + sigma*eps(+1))*k^(alpha-1)+1-delta)\",\n",
    "    \"c + k*exp((mu_R + sigma*eps)/(1-alpha)) = exp(mu_R+sigma*eps)*(k(-1))^(alpha) + (1-delta)*k(-1)\",\n",
    "    \"eps = e_eps\"]\n",
    "\n",
    "FRWZ_RBC = RSDSGEModel(vars,shocks,parameters,expressions,parameter_values,transmatrix,ones(Float64,3));\n",
    "solutions = solve(FRWZ_RBC)\n",
    "solutions[2] # 2 is the stationary one referred to in text"
   ]
  },
  {
   "cell_type": "markdown",
   "metadata": {},
   "source": [
    "## 2: RBC model again\n",
    "Section 6.1\n",
    "\n",
    "Steady state:\n",
    "\n",
    "    K: 34.6774\n",
    "    C: 2.24769\n",
    "    \n",
    "Four solutions total, the stable solution provided in text is:\n",
    "\n",
    "Decision rules (k, e_A, eta):\n",
    "\n",
    "    State 1:\n",
    "        K: 0.95545 -0.0100 -0.1412\n",
    "        C: 0.3708 0.00029 0.00637\n",
    "    State 2:\n",
    "        K: 0.96545 -0.0100 0.02823\n",
    "        C: 0.03708 0.00029 -0.0013"
   ]
  },
  {
   "cell_type": "code",
   "execution_count": 3,
   "metadata": {
    "collapsed": false
   },
   "outputs": [
    {
     "name": "stdout",
     "output_type": "stream",
     "text": [
      "Solving for steady state...done.\n",
      "Evaluating coefficient matrices...done.\n",
      "Subbing out static variables...done.\n",
      "Solving exogenous equations...done.\n",
      "Constructing system of quadratic equations...done\n",
      "Solving complete system of quadratic equations (4 equations)...done\n",
      "Found 4 solution(s).\n",
      "Solution number 3 has imaginary components, ignoring...\n",
      "Solution number 4 has imaginary components, ignoring...\n"
     ]
    },
    {
     "data": {
      "text/plain": [
       "RSDSGE.RSDSGESolution(3x3x2 Array{Float64,3}:\n",
       "[:, :, 1] =\n",
       " 0.0   0.0375854  0.0\n",
       " 0.0   0.964961   0.0\n",
       " 0.0  -0.0        0.0\n",
       "\n",
       "[:, :, 2] =\n",
       " 0.0   0.0375854  0.0\n",
       " 0.0   0.964961   0.0\n",
       " 0.0  -0.0        0.0,3x1x2 Array{Float64,3}:\n",
       "[:, :, 1] =\n",
       "  0.000285212\n",
       " -0.00978012 \n",
       "  1.0        \n",
       "\n",
       "[:, :, 2] =\n",
       "  0.000285212\n",
       " -0.00978012 \n",
       "  1.0        ,3x1x2 Array{Float64,3}:\n",
       "[:, :, 1] =\n",
       "  2.235 \n",
       " 33.8319\n",
       "  0.0   \n",
       "\n",
       "[:, :, 2] =\n",
       "  2.22819\n",
       " 34.0742 \n",
       "  0.0    )"
      ]
     },
     "execution_count": 3,
     "metadata": {},
     "output_type": "execute_result"
    }
   ],
   "source": [
    "transmatrix = [0.5 0.5; 0.1 0.9]\n",
    "mu_bar = 0.00222\n",
    "mu_1 = 0.00278\n",
    "mu_2 = 0.00052\n",
    "mu = (mu_bar+mu_1,mu_bar+mu_2)\n",
    "FRWZ_RBC2 = copy(FRWZ_RBC)\n",
    "#changetransmatrix!(FRWZ_RBC2,transmatrix)\n",
    "updateparameters!(FRWZ_RBC2,\"mu\",mu)\n",
    "solutions = solve(FRWZ_RBC2)\n",
    "solutions[2]"
   ]
  },
  {
   "cell_type": "markdown",
   "metadata": {},
   "source": [
    "## 3: New-Keynesian\n",
    "\n",
    "Section 6.2.1\n",
    "\n",
    "Steady state:\n",
    "\n",
    "    R: 1.0074\n",
    "    Y: 0.90\n",
    "    \n",
    "9 solutions total, the stable solution provided in text is:\n",
    "\n",
    "Decision rules (R, e_R, eta):\n",
    "\n",
    "    State 1:\n",
    "        Y: −1.9282 −0.0062 0.00481\n",
    "        PI: −0.3279 −0.0011 0.00014\n",
    "        R: 0.59517 0.00191 0.00008\n",
    "    State 2:\n",
    "        Y: −2.9541 −0.0090 −0.0094\n",
    "        PI: −0.5547 −0.0017 −0.0026\n",
    "        R: 0.69941 0.00214 −0.0006"
   ]
  },
  {
   "cell_type": "code",
   "execution_count": 4,
   "metadata": {
    "collapsed": false
   },
   "outputs": [
    {
     "name": "stdout",
     "output_type": "stream",
     "text": [
      "Checking which of the switching parameters affect the steady state:\n",
      "Solving for steady state...done.\n",
      "mu...does.\n",
      "psi...does not.\n",
      "----- Diagnostics -----\n",
      "Jump variables: 2\n",
      "Static variables: 0\n",
      "Non-state exo variables: 0\n",
      "Exo states variables: 0\n",
      "Endo states variables: 1\n",
      "Found 0 candidate blocks... 0 of them are redundant.\n"
     ]
    }
   ],
   "source": [
    "beta = 0.9976\n",
    "sigma = 0.0025\n",
    "mu_bar = 0.005\n",
    "mu_1 = 0.0025\n",
    "mu_2 = -0.0025\n",
    "R_SS = exp(mu_bar)/beta\n",
    "mu = (mu_bar+mu_1,mu_bar+mu_2)\n",
    "eta = 10\n",
    "kappa = 161\n",
    "rho = 0.8\n",
    "psi = (3.1,0.9)\n",
    "\n",
    "transmatrix = [0.9 0.1; 0.1 0.9]\n",
    "\n",
    "vars = [\"Y\",\"inflation\",\"R\"]\n",
    "shocks = [\"e_R\"]\n",
    "parameters = [\"betta\",\"sigma\",\"mu\",\"R_SS\",\"eta\",\"kappa\",\"rho\",\"psi\"]\n",
    "parametervalues = [beta,sigma,mu,R_SS,eta,kappa,rho,psi]\n",
    "equations = [\"1 = betta*((1-kappa/2*(inflation-1)^2)*Y)/((1-kappa/2*(inflation(+1)-1)^2)*Y(+1))*1/exp(mu_RP)*R/inflation(+1)\",\n",
    "\"kappa*(inflation-1)*inflation = (1-eta)+betta*(1-kappa/2*(inflation-1)^2)*Y + \n",
    "    betta*kappa*(1-kappa/2*(inflation-1)^2)/(1-kappa/2*(inflation(+1)-1)^2)*(inflation(+1)-1)*inflation(+1)\",\n",
    "\"R/R_SS = (R(-1)/R_SS)^rho*inflation^((1-rho)*psi_R)*exp(sigma*e_R)\"]\n",
    "\n",
    "FRWZ_NK = RSDSGEModel(vars,shocks,parameters,equations,parametervalues,transmatrix,ones(Float64,3));"
   ]
  },
  {
   "cell_type": "markdown",
   "metadata": {},
   "source": [
    "## NK with habits\n",
    "\n",
    "Section 6.3\n",
    "\n",
    "Steady state:\n",
    "\n",
    "    X: 0.904957\n",
    "    C: 0.904957\n",
    "    lambda: 1.11111\n",
    "    \n",
    "16 solutions total, the stable solution provided in text is:\n",
    "\n",
    "Decision rules (C, e_R, eta):\n",
    "\n",
    "    State 1:\n",
    "        C: 0.69651 −0.0002 0.00045\n",
    "        PI: 0.0 −0.0001 0.00021\n",
    "        X: 0.69651 −0.0002 0.00045\n",
    "        lambda: 0.0 0.00239 −0.0069\n",
    "    State 2:\n",
    "        C: 0.69651 −0.0002 −0.0005\n",
    "        PI: 0.0 −0.0001 −0.0033\n",
    "        X: 0.69651 −0.0002 −0.0005\n",
    "        lambda: 0.0 0.00261 0.00707"
   ]
  },
  {
   "cell_type": "code",
   "execution_count": 5,
   "metadata": {
    "collapsed": false
   },
   "outputs": [
    {
     "name": "stdout",
     "output_type": "stream",
     "text": [
      "Checking which of the switching parameters affect the steady state:\n",
      "Solving for steady state...done.\n",
      "mu...does.\n",
      "psi...does not.\n",
      "----- Diagnostics -----\n",
      "Jump variables: 3\n",
      "Static variables: 0\n",
      "Non-state exo variables: 0\n",
      "Exo states variables: 0\n",
      "Endo states variables: 1\n",
      "Found 0 candidate blocks... 0 of them are redundant.\n"
     ]
    }
   ],
   "source": [
    "beta = 0.9976\n",
    "kappa = 161\n",
    "eta = 10\n",
    "phi = 0.7\n",
    "sigma = 0.0025\n",
    "mu_bar = 0.005\n",
    "mu_1 = 0.0025\n",
    "mu_2 = -0.0025\n",
    "mu = (mu_bar+mu_1,mu_bar+mu_2)\n",
    "psi = (3.1,0.9)\n",
    "R_SS = exp(mu_bar)/beta\n",
    "\n",
    "transmatrix = [0.9 0.1; 0.1 0.9]\n",
    "\n",
    "vars = [\"C\",\"X\",\"inflation\",\"lambbda\"]\n",
    "shocks = [\"e_R\"]\n",
    "parameters = [\"betta\",\"kappa\",\"eta\",\"phi\",\"sigma\",\"mu\",\"psi\",\"R_SS\"]\n",
    "parametervalues = [beta,kappa,eta,phi,sigma,mu,psi,R_SS]\n",
    "equations = [\"lambbda = 1/(C-phi*exp(-mu_R)*C(-1)) - betta*phi/(X(+1)*exp(mu_RP)-phi*C)\",\n",
    "\"lambbda = betta*lambbda(+1)/exp(mu_RP)*R_SS*inflation^psi_R*exp(sigma*e_R)\",\n",
    "    \"kappa*(inflation-1)*inflation = (1-eta) + eta/lambbda + \n",
    "    betta*kappa*(inflation(+1)-1)*inflation(+1)*lambbda(+1)/lambbda*X(+1)/C*(1-kappa/2*(inflation-1)^2)/(1-kappa/2*(inflation(+1)-1)^2)\",\n",
    "\"X = C\"]\n",
    "\n",
    "FRWZ_NK_withhabits = RSDSGEModel(vars,shocks,parameters,equations,parametervalues,transmatrix,ones(4));"
   ]
  },
  {
   "cell_type": "markdown",
   "metadata": {},
   "source": [
    "## NK with Habits 2\n",
    "\n",
    "Changes the monetary policy parameters\n",
    "\n",
    "Section 6.2\n",
    "\n",
    "Steady state:\n",
    "\n",
    "    X: 0.904957\n",
    "    C: 0.904957\n",
    "    lambda: 1.11111\n",
    "    \n",
    "16 solutions total.\n",
    "\n",
    "Limited reporting of results, only decision rule for C wrt C\n",
    "\n",
    "    State 1:\n",
    "        C: 0.69651\n",
    "    State 2:\n",
    "        C: 0.69651"
   ]
  },
  {
   "cell_type": "code",
   "execution_count": 6,
   "metadata": {
    "collapsed": false
   },
   "outputs": [],
   "source": [
    "psi = (3.1,0.6)\n",
    "FRWZ_NK_withhabits2 = copy(FRWZ_NK_withhabits)\n",
    "updateparameters!(FRWZ_NK_withhabits2,\"psi\",psi)"
   ]
  },
  {
   "cell_type": "markdown",
   "metadata": {},
   "source": [
    "## NK with Habits 3\n",
    "\n",
    "Changes the habit persistence parameter\n",
    "\n",
    "Section 6.2\n",
    "\n",
    "Steady state:\n",
    "\n",
    "    X: 0.904957\n",
    "    C: 0.904957\n",
    "    lambda: 1.11111\n",
    "    \n",
    "16 solutions total.\n",
    "\n",
    "Limited reporting of results, only decision rule for C wrt C\n",
    "\n",
    "    State 1:\n",
    "        C: 0.895511\n",
    "    State 2:\n",
    "        C: 0.895511"
   ]
  },
  {
   "cell_type": "code",
   "execution_count": 7,
   "metadata": {
    "collapsed": false
   },
   "outputs": [
    {
     "name": "stdout",
     "output_type": "stream",
     "text": [
      "Solving for steady state...done.\n"
     ]
    }
   ],
   "source": [
    "phi = 0.9\n",
    "FRWZ_NK_withhabits3 = copy(FRWZ_NK_withhabits)\n",
    "updateparameters!(FRWZ_NK_withhabits3,\"phi\",phi)"
   ]
  }
 ],
 "metadata": {
  "kernelspec": {
   "display_name": "Julia 0.4.5",
   "language": "julia",
   "name": "julia-0.4"
  },
  "language_info": {
   "file_extension": ".jl",
   "mimetype": "application/julia",
   "name": "julia",
   "version": "0.4.5"
  }
 },
 "nbformat": 4,
 "nbformat_minor": 0
}
